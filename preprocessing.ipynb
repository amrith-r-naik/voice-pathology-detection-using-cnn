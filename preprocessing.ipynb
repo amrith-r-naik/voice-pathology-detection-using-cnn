{
 "cells": [
  {
   "cell_type": "code",
   "execution_count": 1,
   "metadata": {},
   "outputs": [],
   "source": [
    "import os\n",
    "from components.preprocessing import load_trim_audio, save_audio\n",
    "from components.feature_extraction import save_mel_spectogram"
   ]
  },
  {
   "cell_type": "code",
   "execution_count": 2,
   "metadata": {},
   "outputs": [],
   "source": [
    "# Set up the dirs\n",
    "base_dir = 'data'\n",
    "original_audio_dir = os.path.join(base_dir,'original_audio_data')\n",
    "categories = ['normal', 'pathological']\n",
    "\n",
    "trimmed_audio_output_dir = os.path.join(base_dir,'trimmed_audio_data')\n",
    "if not os.path.exists(trimmed_audio_output_dir):\n",
    "    os.makedirs(trimmed_audio_output_dir)\n",
    "    \n",
    "image_output_dir = os.path.join(base_dir,'image_data')\n",
    "if not os.path.exists(image_output_dir):\n",
    "    os.makedirs(image_output_dir)"
   ]
  },
  {
   "cell_type": "code",
   "execution_count": null,
   "metadata": {},
   "outputs": [],
   "source": [
    "# Trim original audio to 0.5 sec audio and save them\n",
    "for category in categories:\n",
    "    category_path = os.path.join(original_audio_dir,category)\n",
    "    output_category_path = os.path.join(trimmed_audio_output_dir,category)\n",
    "    if not os.path.exists(output_category_path):\n",
    "        os.makedirs(output_category_path)\n",
    "    for filename in os.listdir(category_path):\n",
    "        if filename.endswith('.wav'):\n",
    "            filepath = os.path.join(category_path,filename)\n",
    "            y, sr = load_trim_audio(filepath,sr=50000)\n",
    "            output_filepath = os.path.join(output_category_path,filename)\n",
    "            save_audio(y,sr=sr,path=output_filepath)"
   ]
  },
  {
   "cell_type": "code",
   "execution_count": null,
   "metadata": {},
   "outputs": [],
   "source": [
    "# Convert the trimmed audio to mel spectograms and save them as pngs\n",
    "for category in categories:\n",
    "    category_path = os.path.join(trimmed_audio_output_dir,category)\n",
    "    image_output_category_path = os.path.join(image_output_dir,category)\n",
    "    if not os.path.exists(image_output_category_path):\n",
    "        os.makedirs(image_output_category_path)\n",
    "    for filename in os.listdir(category_path):\n",
    "        if filename.endswith('.wav'):\n",
    "            filepath = os.path.join(category_path,filename)\n",
    "            output_filepath = os.path.join(image_output_category_path,filename.replace('.wav','.png'))\n",
    "            save_mel_spectogram(filepath,output_filepath)"
   ]
  }
 ],
 "metadata": {
  "kernelspec": {
   "display_name": "venv",
   "language": "python",
   "name": "python3"
  },
  "language_info": {
   "codemirror_mode": {
    "name": "ipython",
    "version": 3
   },
   "file_extension": ".py",
   "mimetype": "text/x-python",
   "name": "python",
   "nbconvert_exporter": "python",
   "pygments_lexer": "ipython3",
   "version": "3.9.19"
  }
 },
 "nbformat": 4,
 "nbformat_minor": 2
}
